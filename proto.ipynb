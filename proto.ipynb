{
  "nbformat": 4,
  "nbformat_minor": 0,
  "metadata": {
    "colab": {
      "name": "proto.ipynb",
      "provenance": [],
      "collapsed_sections": [],
      "include_colab_link": true
    },
    "kernelspec": {
      "name": "python3",
      "display_name": "Python 3"
    },
    "language_info": {
      "name": "python"
    },
    "accelerator": "GPU"
  },
  "cells": [
    {
      "cell_type": "markdown",
      "metadata": {
        "id": "view-in-github",
        "colab_type": "text"
      },
      "source": [
        "<a href=\"https://colab.research.google.com/github/Yashwanth2025/proto/blob/main/proto.ipynb\" target=\"_parent\"><img src=\"https://colab.research.google.com/assets/colab-badge.svg\" alt=\"Open In Colab\"/></a>"
      ]
    },
    {
      "cell_type": "code",
      "execution_count": 1,
      "metadata": {
        "id": "ubsGFUitgamk"
      },
      "outputs": [],
      "source": [
        "import tensorflow as tf\n",
        "import numpy as np\n",
        "import os\n",
        "import math\n",
        "import re\n",
        "import shutil\n",
        "from keras import datasets, layers, models\n",
        "from keras.preprocessing.image import ImageDataGenerator\n",
        "import matplotlib.pyplot as plt"
      ]
    },
    {
      "cell_type": "code",
      "source": [
        "from google.colab import drive\n",
        "drive.mount('/content/drive')"
      ],
      "metadata": {
        "colab": {
          "base_uri": "https://localhost:8080/"
        },
        "id": "omy6JSRrQ4ZO",
        "outputId": "41b53067-908b-41cf-fe7c-60e1809365d7"
      },
      "execution_count": 2,
      "outputs": [
        {
          "output_type": "stream",
          "name": "stdout",
          "text": [
            "Drive already mounted at /content/drive; to attempt to forcibly remount, call drive.mount(\"/content/drive\", force_remount=True).\n"
          ]
        }
      ]
    },
    {
      "cell_type": "code",
      "source": [
        "ROOT=\"/content/drive/MyDrive/Dataset_BUSI_with_GT\"\n",
        "n={}\n",
        "for dir in os.listdir(ROOT):\n",
        "  n[dir]=len(os.listdir(os.path.join(ROOT,dir)))\n",
        "print(n)"
      ],
      "metadata": {
        "colab": {
          "base_uri": "https://localhost:8080/"
        },
        "id": "2Fn2ATXggkHS",
        "outputId": "5cd346ca-9ba0-41c0-f0dc-705b2db13be7"
      },
      "execution_count": 3,
      "outputs": [
        {
          "output_type": "stream",
          "name": "stdout",
          "text": [
            "{'normal': 276, 'benign': 891, 'malignant': 421}\n"
          ]
        }
      ]
    },
    {
      "cell_type": "code",
      "source": [
        "def mkfol(p,r):\n",
        "  if not os.path.exists(\"./\"+p):\n",
        "    os.mkdir(\"./\"+p)\n",
        "    for dir in os.listdir(ROOT):\n",
        "      os.mkdir(os.path.join(\"./\"+p,dir))\n",
        "      l=[]\n",
        "      for i in os.listdir(os.path.join(ROOT,dir)):\n",
        "        if not re.fullmatch(\".*mask.*\",i):\n",
        "          l.append(i)\n",
        "      for img in np.random.choice(a=l,size=math.floor(r*len(l))-2,replace=False):\n",
        "        o = os.path.join(ROOT,dir,img)\n",
        "        d = os.path.join(\"./\"+p,dir)\n",
        "        shutil.copy(o,d)\n",
        "  else:\n",
        "    print(f\"{p} already exists.\")"
      ],
      "metadata": {
        "id": "35gQrqPkiv7q"
      },
      "execution_count": 4,
      "outputs": []
    },
    {
      "cell_type": "code",
      "source": [
        "mkfol(\"train\",0.7)\n",
        "mkfol(\"test\",0.15)\n",
        "mkfol(\"val\",0.15)"
      ],
      "metadata": {
        "id": "jlNv9-DfxkOo"
      },
      "execution_count": 5,
      "outputs": []
    },
    {
      "cell_type": "code",
      "source": [
        "from keras_preprocessing.image import image_data_generator\n",
        "def ppi(p):\n",
        "  i = ImageDataGenerator(zoom_range=0.2,shear_range=0.2,rescale=1/255,horizontal_flip=True)\n",
        "  I = i.flow_from_directory(directory=p,target_size=(500,500),batch_size=32)\n",
        "  return I\n",
        "def ppi2(p):\n",
        "  i = ImageDataGenerator(rescale=1/255)\n",
        "  I = i.flow_from_directory(directory=p,target_size=(500,500),batch_size=32)\n",
        "  return I\n"
      ],
      "metadata": {
        "id": "anxwaXat3JWM"
      },
      "execution_count": 6,
      "outputs": []
    },
    {
      "cell_type": "code",
      "source": [
        "train_images=ppi(\"./train\")\n",
        "test_images=ppi2(\"./test\")\n",
        "val_images=ppi2(\"./val\")"
      ],
      "metadata": {
        "colab": {
          "base_uri": "https://localhost:8080/"
        },
        "id": "85znN7Fe-TBc",
        "outputId": "4273719f-9a5f-43d7-afe1-d3989b91f9b9"
      },
      "execution_count": 7,
      "outputs": [
        {
          "output_type": "stream",
          "name": "stdout",
          "text": [
            "Found 542 images belonging to 3 classes.\n",
            "Found 110 images belonging to 3 classes.\n",
            "Found 110 images belonging to 3 classes.\n"
          ]
        }
      ]
    },
    {
      "cell_type": "code",
      "source": [
        "from keras.layers.core.dropout import Dropout\n",
        "from keras.layers.core.flatten import Flatten\n",
        "model = models.Sequential()\n",
        "model.add(layers.Conv2D(16, (3, 3), activation='relu', input_shape=(500, 500, 3)))\n",
        "model.add(layers.MaxPooling2D((2, 2)))\n",
        "model.add(layers.Conv2D(32, (3, 3), activation='relu'))\n",
        "model.add(layers.MaxPooling2D((2, 2)))\n",
        "model.add(layers.Conv2D(64, (3, 3), activation='relu'))\n",
        "model.add(layers.MaxPooling2D((2, 2)))\n",
        "model.add(Dropout(rate=0.25))\n",
        "model.add(layers.Conv2D(128, (3, 3), activation='relu'))\n",
        "model.add(layers.MaxPooling2D((2, 2)))\n",
        "model.add(Flatten())\n",
        "model.add(layers.Dense(64, activation='relu'))\n",
        "model.add(Dropout(rate=0.25))\n",
        "model.add(layers.Dense(3))\n",
        "model.summary()\n",
        "model.compile(optimizer='adam',loss=tf.keras.losses.categorical_crossentropy,metrics=['accuracy'])"
      ],
      "metadata": {
        "colab": {
          "base_uri": "https://localhost:8080/"
        },
        "id": "CZ-2vx97gmOK",
        "outputId": "877d7381-04ec-4cb5-c4a0-e0395eec89ae"
      },
      "execution_count": 8,
      "outputs": [
        {
          "output_type": "stream",
          "name": "stdout",
          "text": [
            "Model: \"sequential\"\n",
            "_________________________________________________________________\n",
            " Layer (type)                Output Shape              Param #   \n",
            "=================================================================\n",
            " conv2d (Conv2D)             (None, 498, 498, 16)      448       \n",
            "                                                                 \n",
            " max_pooling2d (MaxPooling2D  (None, 249, 249, 16)     0         \n",
            " )                                                               \n",
            "                                                                 \n",
            " conv2d_1 (Conv2D)           (None, 247, 247, 32)      4640      \n",
            "                                                                 \n",
            " max_pooling2d_1 (MaxPooling  (None, 123, 123, 32)     0         \n",
            " 2D)                                                             \n",
            "                                                                 \n",
            " conv2d_2 (Conv2D)           (None, 121, 121, 64)      18496     \n",
            "                                                                 \n",
            " max_pooling2d_2 (MaxPooling  (None, 60, 60, 64)       0         \n",
            " 2D)                                                             \n",
            "                                                                 \n",
            " dropout (Dropout)           (None, 60, 60, 64)        0         \n",
            "                                                                 \n",
            " conv2d_3 (Conv2D)           (None, 58, 58, 128)       73856     \n",
            "                                                                 \n",
            " max_pooling2d_3 (MaxPooling  (None, 29, 29, 128)      0         \n",
            " 2D)                                                             \n",
            "                                                                 \n",
            " flatten (Flatten)           (None, 107648)            0         \n",
            "                                                                 \n",
            " dense (Dense)               (None, 64)                6889536   \n",
            "                                                                 \n",
            " dropout_1 (Dropout)         (None, 64)                0         \n",
            "                                                                 \n",
            " dense_1 (Dense)             (None, 3)                 195       \n",
            "                                                                 \n",
            "=================================================================\n",
            "Total params: 6,987,171\n",
            "Trainable params: 6,987,171\n",
            "Non-trainable params: 0\n",
            "_________________________________________________________________\n"
          ]
        }
      ]
    },
    {
      "cell_type": "code",
      "source": [
        "history = model.fit_generator(generator=train_images, epochs=10, verbose = 1, validation_data=val_images)"
      ],
      "metadata": {
        "colab": {
          "base_uri": "https://localhost:8080/"
        },
        "id": "ex89Ntyvgvvb",
        "outputId": "e51e2e09-13ac-46f0-b9ff-79df7e30ca6f"
      },
      "execution_count": 9,
      "outputs": [
        {
          "output_type": "stream",
          "name": "stderr",
          "text": [
            "/usr/local/lib/python3.7/dist-packages/ipykernel_launcher.py:1: UserWarning: `Model.fit_generator` is deprecated and will be removed in a future version. Please use `Model.fit`, which supports generators.\n",
            "  \"\"\"Entry point for launching an IPython kernel.\n"
          ]
        },
        {
          "output_type": "stream",
          "name": "stdout",
          "text": [
            "Epoch 1/10\n",
            "17/17 [==============================] - 43s 2s/step - loss: 3.2306 - accuracy: 0.1974 - val_loss: 3.8097 - val_accuracy: 0.1636\n",
            "Epoch 2/10\n",
            "17/17 [==============================] - 30s 2s/step - loss: 7.5058 - accuracy: 0.2325 - val_loss: 4.5123 - val_accuracy: 0.5727\n",
            "Epoch 3/10\n",
            "17/17 [==============================] - 30s 2s/step - loss: 4.5782 - accuracy: 0.5295 - val_loss: 4.2883 - val_accuracy: 0.5727\n",
            "Epoch 4/10\n",
            "17/17 [==============================] - 30s 2s/step - loss: 4.4966 - accuracy: 0.4022 - val_loss: 4.2493 - val_accuracy: 0.1636\n",
            "Epoch 5/10\n",
            "17/17 [==============================] - 30s 2s/step - loss: 5.2459 - accuracy: 0.2232 - val_loss: 4.2493 - val_accuracy: 0.1636\n",
            "Epoch 6/10\n",
            "17/17 [==============================] - 30s 2s/step - loss: 8.4996 - accuracy: 0.1734 - val_loss: 11.8688 - val_accuracy: 0.1636\n",
            "Epoch 7/10\n",
            "17/17 [==============================] - 30s 2s/step - loss: 6.5569 - accuracy: 0.1753 - val_loss: 2.6375 - val_accuracy: 0.1636\n",
            "Epoch 8/10\n",
            "17/17 [==============================] - 30s 2s/step - loss: 3.8699 - accuracy: 0.1734 - val_loss: 2.6375 - val_accuracy: 0.1636\n",
            "Epoch 9/10\n",
            "17/17 [==============================] - 30s 2s/step - loss: 3.1893 - accuracy: 0.1734 - val_loss: 2.6375 - val_accuracy: 0.1636\n",
            "Epoch 10/10\n",
            "17/17 [==============================] - 30s 2s/step - loss: 2.8349 - accuracy: 0.1734 - val_loss: 2.6375 - val_accuracy: 0.1636\n"
          ]
        }
      ]
    },
    {
      "cell_type": "code",
      "source": [
        "plt.plot(history.history['accuracy'], label='accuracy')\n",
        "plt.plot(history.history['val_accuracy'], label = 'val_accuracy')\n",
        "plt.xlabel('Epoch')\n",
        "plt.ylabel('Accuracy')\n",
        "plt.ylim([0.5, 1])\n",
        "plt.legend(loc='lower right')"
      ],
      "metadata": {
        "colab": {
          "base_uri": "https://localhost:8080/",
          "height": 300
        },
        "id": "1BN5h6qsidvC",
        "outputId": "e8533ee5-4095-4c30-8eeb-01fa8fd9efe7"
      },
      "execution_count": 10,
      "outputs": [
        {
          "output_type": "execute_result",
          "data": {
            "text/plain": [
              "<matplotlib.legend.Legend at 0x7fa450134f90>"
            ]
          },
          "metadata": {},
          "execution_count": 10
        },
        {
          "output_type": "display_data",
          "data": {
            "text/plain": [
              "<Figure size 432x288 with 1 Axes>"
            ],
            "image/png": "[encoded data removed]"
          },
          "metadata": {
            "needs_background": "light"
          }
        }
      ]
    },
    {
      "cell_type": "code",
      "source": [
        "loss,acc = model.evaluate_generator(test_images,verbose=2)\n",
        "print(acc)"
      ],
      "metadata": {
        "colab": {
          "base_uri": "https://localhost:8080/"
        },
        "id": "WgVQipaNgzHC",
        "outputId": "fc9648d8-8ee0-4c82-a276-bfb3e4fc4252"
      },
      "execution_count": 11,
      "outputs": [
        {
          "output_type": "stream",
          "name": "stderr",
          "text": [
            "/usr/local/lib/python3.7/dist-packages/ipykernel_launcher.py:1: UserWarning: `Model.evaluate_generator` is deprecated and will be removed in a future version. Please use `Model.evaluate`, which supports generators.\n",
            "  \"\"\"Entry point for launching an IPython kernel.\n"
          ]
        },
        {
          "output_type": "stream",
          "name": "stdout",
          "text": [
            "4/4 - 1s - loss: 2.6375 - accuracy: 0.1636 - 1s/epoch - 322ms/step\n",
            "0.16363635659217834\n"
          ]
        }
      ]
    }
  ]
}