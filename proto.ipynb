{
  "nbformat": 4,
  "nbformat_minor": 0,
  "metadata": {
    "colab": {
      "name": "proto.ipynb",
      "provenance": [],
      "collapsed_sections": [],
      "include_colab_link": true
    },
    "kernelspec": {
      "name": "python3",
      "display_name": "Python 3"
    },
    "language_info": {
      "name": "python"
    },
    "accelerator": "GPU"
  },
  "cells": [
    {
      "cell_type": "markdown",
      "metadata": {
        "id": "view-in-github",
        "colab_type": "text"
      },
      "source": [
        "<a href=\"https://colab.research.google.com/github/Yashwanth2025/proto/blob/main/proto.ipynb\" target=\"_parent\"><img src=\"https://colab.research.google.com/assets/colab-badge.svg\" alt=\"Open In Colab\"/></a>"
      ]
    },
    {
      "cell_type": "code",
      "execution_count": 1,
      "metadata": {
        "id": "ubsGFUitgamk",
        "colab": {
          "base_uri": "https://localhost:8080/"
        },
        "outputId": "5e60f5d7-76a5-498e-c829-20de8deac3f3"
      },
      "outputs": [
        {
          "output_type": "stream",
          "name": "stdout",
          "text": [
            "Drive already mounted at /content/drive; to attempt to forcibly remount, call drive.mount(\"/content/drive\", force_remount=True).\n"
          ]
        }
      ],
      "source": [
        "import tensorflow as tf\n",
        "import numpy as np\n",
        "import os\n",
        "import math\n",
        "import re\n",
        "import shutil\n",
        "from keras import datasets, layers, models\n",
        "from keras.preprocessing.image import ImageDataGenerator\n",
        "from keras.layers.core.dropout import Dropout\n",
        "from keras.layers.core.flatten import Flatten\n",
        "from keras.callbacks import EarlyStopping, ModelCheckpoint\n",
        "import matplotlib.pyplot as plt\n",
        "from google.colab import drive\n",
        "drive.mount('/content/drive')"
      ]
    },
    {
      "cell_type": "code",
      "source": [
        "ROOT=\"/content/drive/MyDrive/Dataset_BUSI_with_GT\"\n",
        "n={}\n",
        "for dir in os.listdir(ROOT):\n",
        "  n[dir]=len(os.listdir(os.path.join(ROOT,dir)))\n",
        "print(n)"
      ],
      "metadata": {
        "colab": {
          "base_uri": "https://localhost:8080/"
        },
        "id": "2Fn2ATXggkHS",
        "outputId": "5baef476-9fea-42a8-ff4f-e9b4c5e7813b"
      },
      "execution_count": 2,
      "outputs": [
        {
          "output_type": "stream",
          "name": "stdout",
          "text": [
            "{'normal': 276, 'benign': 891, 'malignant': 421}\n"
          ]
        }
      ]
    },
    {
      "cell_type": "code",
      "source": [
        "def mkfol(p,r):\n",
        "  if not os.path.exists(\"./\"+p):\n",
        "    os.mkdir(\"./\"+p)\n",
        "    for dir in os.listdir(ROOT):\n",
        "      os.mkdir(os.path.join(\"./\"+p,dir))\n",
        "      l=[]\n",
        "      for i in os.listdir(os.path.join(ROOT,dir)):\n",
        "        if not re.fullmatch(\".*mask.*\",i):\n",
        "          l.append(i)\n",
        "      for img in np.random.choice(a=l,size=math.floor(r*len(l))-2,replace=False):\n",
        "        o = os.path.join(ROOT,dir,img)\n",
        "        d = os.path.join(\"./\"+p,dir)\n",
        "        shutil.copy(o,d)\n",
        "  else:\n",
        "    print(f\"{p} already exists.\")"
      ],
      "metadata": {
        "id": "35gQrqPkiv7q"
      },
      "execution_count": 3,
      "outputs": []
    },
    {
      "cell_type": "code",
      "source": [
        "mkfol(\"train\",0.7)\n",
        "mkfol(\"test\",0.15)\n",
        "mkfol(\"val\",0.15)"
      ],
      "metadata": {
        "id": "jlNv9-DfxkOo",
        "colab": {
          "base_uri": "https://localhost:8080/"
        },
        "outputId": "1df4e851-4e86-44d5-97d0-5a20e1e5461e"
      },
      "execution_count": 4,
      "outputs": [
        {
          "output_type": "stream",
          "name": "stdout",
          "text": [
            "train already exists.\n",
            "test already exists.\n",
            "val already exists.\n"
          ]
        }
      ]
    },
    {
      "cell_type": "code",
      "source": [
        "from keras_preprocessing.image import image_data_generator\n",
        "def ppi(p):\n",
        "  i = ImageDataGenerator(zoom_range=0.2,shear_range=0.2,rescale=1/255,horizontal_flip=True)\n",
        "  I = i.flow_from_directory(directory=p,target_size=(500,500),batch_size=16)\n",
        "  return I\n",
        "def ppi2(p):\n",
        "  i = ImageDataGenerator(rescale=1/255)\n",
        "  I = i.flow_from_directory(directory=p,target_size=(500,500),batch_size=16)\n",
        "  return I\n"
      ],
      "metadata": {
        "id": "anxwaXat3JWM"
      },
      "execution_count": 5,
      "outputs": []
    },
    {
      "cell_type": "code",
      "source": [
        "train_images=ppi(\"./train\")\n",
        "test_images=ppi2(\"./test\")\n",
        "val_images=ppi2(\"./val\")"
      ],
      "metadata": {
        "colab": {
          "base_uri": "https://localhost:8080/"
        },
        "id": "85znN7Fe-TBc",
        "outputId": "4c28aedd-fbc6-487a-c5ce-eecb04565a0f"
      },
      "execution_count": 6,
      "outputs": [
        {
          "output_type": "stream",
          "name": "stdout",
          "text": [
            "Found 542 images belonging to 3 classes.\n",
            "Found 110 images belonging to 3 classes.\n",
            "Found 110 images belonging to 3 classes.\n"
          ]
        }
      ]
    },
    {
      "cell_type": "code",
      "source": [
        "from keras.layers.core.dropout import Dropout\n",
        "from keras.layers.core.flatten import Flatten\n",
        "model = models.Sequential()\n",
        "model.add(layers.Conv2D(16, (3, 3), activation='relu', input_shape=(500, 500, 3)))\n",
        "model.add(layers.MaxPooling2D((2, 2)))\n",
        "model.add(layers.Conv2D(32, (3, 3), activation='relu'))\n",
        "model.add(layers.MaxPooling2D((2, 2)))\n",
        "model.add(layers.Conv2D(64, (3, 3), activation='relu'))\n",
        "model.add(layers.MaxPooling2D((2, 2)))\n",
        "model.add(Dropout(rate=0.25))\n",
        "model.add(layers.Conv2D(128, (3, 3), activation='relu'))\n",
        "model.add(layers.MaxPooling2D((2, 2)))\n",
        "model.add(layers.Conv2D(256, (3, 3), activation='relu'))\n",
        "model.add(layers.MaxPooling2D((2, 2)))\n",
        "model.add(Flatten())\n",
        "model.add(layers.Dense(64, activation='relu'))\n",
        "model.add(Dropout(rate=0.25))\n",
        "model.add(layers.Dense(3))\n",
        "model.summary()\n",
        "model.compile(optimizer='adam',loss=tf.keras.losses.categorical_crossentropy,metrics=['accuracy'])"
      ],
      "metadata": {
        "colab": {
          "base_uri": "https://localhost:8080/"
        },
        "id": "CZ-2vx97gmOK",
        "outputId": "21186bc9-3c5b-49d3-e302-cb965b90c8f0"
      },
      "execution_count": 45,
      "outputs": [
        {
          "output_type": "stream",
          "name": "stdout",
          "text": [
            "Model: \"sequential_2\"\n",
            "_________________________________________________________________\n",
            " Layer (type)                Output Shape              Param #   \n",
            "=================================================================\n",
            " conv2d_10 (Conv2D)          (None, 498, 498, 16)      448       \n",
            "                                                                 \n",
            " max_pooling2d_10 (MaxPoolin  (None, 249, 249, 16)     0         \n",
            " g2D)                                                            \n",
            "                                                                 \n",
            " conv2d_11 (Conv2D)          (None, 247, 247, 32)      4640      \n",
            "                                                                 \n",
            " max_pooling2d_11 (MaxPoolin  (None, 123, 123, 32)     0         \n",
            " g2D)                                                            \n",
            "                                                                 \n",
            " conv2d_12 (Conv2D)          (None, 121, 121, 64)      18496     \n",
            "                                                                 \n",
            " max_pooling2d_12 (MaxPoolin  (None, 60, 60, 64)       0         \n",
            " g2D)                                                            \n",
            "                                                                 \n",
            " dropout_4 (Dropout)         (None, 60, 60, 64)        0         \n",
            "                                                                 \n",
            " conv2d_13 (Conv2D)          (None, 58, 58, 128)       73856     \n",
            "                                                                 \n",
            " max_pooling2d_13 (MaxPoolin  (None, 29, 29, 128)      0         \n",
            " g2D)                                                            \n",
            "                                                                 \n",
            " conv2d_14 (Conv2D)          (None, 27, 27, 256)       295168    \n",
            "                                                                 \n",
            " max_pooling2d_14 (MaxPoolin  (None, 13, 13, 256)      0         \n",
            " g2D)                                                            \n",
            "                                                                 \n",
            " flatten_2 (Flatten)         (None, 43264)             0         \n",
            "                                                                 \n",
            " dense_4 (Dense)             (None, 64)                2768960   \n",
            "                                                                 \n",
            " dropout_5 (Dropout)         (None, 64)                0         \n",
            "                                                                 \n",
            " dense_5 (Dense)             (None, 3)                 195       \n",
            "                                                                 \n",
            "=================================================================\n",
            "Total params: 3,161,763\n",
            "Trainable params: 3,161,763\n",
            "Non-trainable params: 0\n",
            "_________________________________________________________________\n"
          ]
        }
      ]
    },
    {
      "cell_type": "code",
      "source": [
        "es = EarlyStopping(monitor=\"val_accuracy\",min_delta=0.01,patience=3,verbose=1,mode='auto')\n",
        "mc = ModelCheckpoint(monitor=\"val_accuracy\",filepath=\"./bestmodel.h5\",save_best_only=True,verbose=1,mode='auto')\n",
        "cd=[es,mc]"
      ],
      "metadata": {
        "id": "8jvv7rFeaul3"
      },
      "execution_count": 46,
      "outputs": []
    },
    {
      "cell_type": "code",
      "source": [
        "history = model.fit_generator(generator=train_images,epochs=10, verbose = 1,validation_data=val_images,callbacks=cd)"
      ],
      "metadata": {
        "id": "ex89Ntyvgvvb"
      },
      "execution_count": null,
      "outputs": []
    },
    {
      "cell_type": "code",
      "source": [
        "plt.plot(history.history['accuracy'], label='accuracy')\n",
        "plt.plot(history.history['val_accuracy'], label = 'val_accuracy')\n",
        "plt.xlabel('Epoch')\n",
        "plt.ylabel('Accuracy')\n",
        "plt.ylim([0.5, 1])\n",
        "plt.legend(loc='lower right')"
      ],
      "metadata": {
        "colab": {
          "base_uri": "https://localhost:8080/",
          "height": 300
        },
        "id": "1BN5h6qsidvC",
        "outputId": "69fdc2d3-b685-4ab0-c8ed-9d822a5d05d8"
      },
      "execution_count": 15,
      "outputs": [
        {
          "output_type": "execute_result",
          "data": {
            "text/plain": [
              "<matplotlib.legend.Legend at 0x7fd04004d950>"
            ]
          },
          "metadata": {},
          "execution_count": 15
        },
        {
          "output_type": "display_data",
          "data": {
            "text/plain": [
              "<Figure size 432x288 with 1 Axes>"
            ],
            "image/png": "[encoded data removed]"
          },
          "metadata": {
            "needs_background": "light"
          }
        }
      ]
    },
    {
      "cell_type": "code",
      "source": [
        "loss,acc = model.evaluate_generator(test_images,verbose=2)\n",
        "print(acc)"
      ],
      "metadata": {
        "colab": {
          "base_uri": "https://localhost:8080/"
        },
        "id": "WgVQipaNgzHC",
        "outputId": "54e11188-580f-4aca-d2fe-961e43a8ea32"
      },
      "execution_count": 16,
      "outputs": [
        {
          "output_type": "stream",
          "name": "stderr",
          "text": [
            "/usr/local/lib/python3.7/dist-packages/ipykernel_launcher.py:1: UserWarning: `Model.evaluate_generator` is deprecated and will be removed in a future version. Please use `Model.evaluate`, which supports generators.\n",
            "  \"\"\"Entry point for launching an IPython kernel.\n"
          ]
        },
        {
          "output_type": "stream",
          "name": "stdout",
          "text": [
            "7/7 - 1s - loss: 0.8800 - accuracy: 0.6455 - 1s/epoch - 200ms/step\n",
            "0.6454545259475708\n"
          ]
        }
      ]
    },
    {
      "cell_type": "code",
      "source": [
        "from keras.models import load_model\n",
        "model=load_model(\"/content/bestmodel.h5\")"
      ],
      "metadata": {
        "id": "IcqwiBMHinoM"
      },
      "execution_count": 48,
      "outputs": []
    },
    {
      "cell_type": "code",
      "source": [
        "accu=model.evaluate_generator(test_images)[1]\n",
        "print(accu*100)"
      ],
      "metadata": {
        "colab": {
          "base_uri": "https://localhost:8080/"
        },
        "id": "iw8Cq70_kipl",
        "outputId": "074c00c6-b42e-4817-a868-61c901f22b99"
      },
      "execution_count": 49,
      "outputs": [
        {
          "output_type": "stream",
          "name": "stderr",
          "text": [
            "/usr/local/lib/python3.7/dist-packages/ipykernel_launcher.py:1: UserWarning: `Model.evaluate_generator` is deprecated and will be removed in a future version. Please use `Model.evaluate`, which supports generators.\n",
            "  \"\"\"Entry point for launching an IPython kernel.\n"
          ]
        },
        {
          "output_type": "stream",
          "name": "stdout",
          "text": [
            "61.81818246841431\n"
          ]
        }
      ]
    },
    {
      "cell_type": "code",
      "source": [
        "from keras.preprocessing.image import load_img, img_to_array\n",
        "from keras.models import sequential"
      ],
      "metadata": {
        "id": "1LJWuzBmtlnt"
      },
      "execution_count": 29,
      "outputs": []
    },
    {
      "cell_type": "code",
      "source": [
        "path=\"/content/train/normal/normal (50).png\"\n",
        "img=load_img(path,target_size=(500,500))\n",
        "input_array=img_to_array(img)/255\n",
        "input_array=np.expand_dims(input_array,axis=0)\n",
        "pred=model.predict(input_array)\n",
        "npred=np.argmax(pred,axis=1)[0]\n",
        "x=train_images.class_indices\n",
        "for a in x.keys():\n",
        "  if(x[a]==npred):\n",
        "    print(a)"
      ],
      "metadata": {
        "colab": {
          "base_uri": "https://localhost:8080/"
        },
        "id": "-FB5WY43t9IC",
        "outputId": "24a1ccbf-d58f-4111-eb61-dbbf0cdba44a"
      },
      "execution_count": 70,
      "outputs": [
        {
          "output_type": "stream",
          "name": "stdout",
          "text": [
            "malignant\n"
          ]
        }
      ]
    }
  ]
}