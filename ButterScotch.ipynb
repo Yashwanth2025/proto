{
  "nbformat": 4,
  "nbformat_minor": 0,
  "metadata": {
    "colab": {
      "name": "ButterScotch.ipynb",
      "provenance": [],
      "collapsed_sections": []
    },
    "kernelspec": {
      "name": "python3",
      "display_name": "Python 3"
    },
    "language_info": {
      "name": "python"
    },
    "accelerator": "GPU"
  },
  "cells": [
    {
      "cell_type": "code",
      "execution_count": 1,
      "metadata": {
        "colab": {
          "base_uri": "https://localhost:8080/"
        },
        "id": "M-ACBCfNhX-z",
        "outputId": "d3e49c57-2a35-4c82-d5b1-fe5d6c5e7efb"
      },
      "outputs": [
        {
          "output_type": "stream",
          "name": "stdout",
          "text": [
            "Mounted at /content/drive\n"
          ]
        }
      ],
      "source": [
        "import tensorflow as tf\n",
        "import numpy as np\n",
        "import os\n",
        "import math\n",
        "import re\n",
        "import shutil\n",
        "from keras import datasets, layers, models\n",
        "from keras.preprocessing.image import ImageDataGenerator\n",
        "from keras.layers.core.dropout import Dropout\n",
        "from keras.layers.core.flatten import Flatten\n",
        "from keras.callbacks import EarlyStopping, ModelCheckpoint\n",
        "import matplotlib.pyplot as plt\n",
        "from google.colab import drive\n",
        "drive.mount('/content/drive')"
      ]
    },
    {
      "cell_type": "code",
      "source": [
        "ROOT=\"/content/drive/MyDrive/Dataset_BUSI_with_GT\""
      ],
      "metadata": {
        "id": "HHDAXm5WhmBw"
      },
      "execution_count": 2,
      "outputs": []
    },
    {
      "cell_type": "code",
      "source": [
        "def mkfol(p):\n",
        "  if not os.path.exists(\"./\"+p):\n",
        "    os.mkdir(\"./\"+p)\n",
        "    for dir in os.listdir(ROOT):\n",
        "      os.mkdir(os.path.join(\"./\"+p,dir))\n",
        "      l=[]\n",
        "      for i in os.listdir(os.path.join(ROOT,dir)):\n",
        "        if not re.fullmatch(\".*mask.*\",i):\n",
        "          l.append(i)\n",
        "      for img in l:\n",
        "        o = os.path.join(ROOT,dir,img)\n",
        "        d = os.path.join(\"./\"+p,dir)\n",
        "        shutil.copy(o,d)\n",
        "  else:\n",
        "    print(f\"{p} already exists.\")"
      ],
      "metadata": {
        "id": "ftVt2bdChmq_"
      },
      "execution_count": 3,
      "outputs": []
    },
    {
      "cell_type": "code",
      "source": [
        "mkfol(\"Sample\")"
      ],
      "metadata": {
        "id": "fRc7Ow-shpfn"
      },
      "execution_count": 4,
      "outputs": []
    },
    {
      "cell_type": "code",
      "source": [
        "import pandas as pd\n",
        "import glob\n",
        "from PIL import Image\n",
        "import os\n",
        "import matplotlib.pyplot as plt\n",
        "import tensorflow as tf\n",
        "import numpy as np\n",
        "import tensorflow as tf\n",
        "from keras.models import *\n",
        "from tensorflow.keras import layers\n",
        "from keras.layers import Input, Add, Dense, Activation, ZeroPadding2D, BatchNormalization, Flatten, Conv2D, AveragePooling2D, MaxPooling2D, GlobalMaxPooling2D,MaxPool2D\n",
        "import pandas as pd\n",
        "import glob\n",
        "from PIL import Image\n",
        "import os\n",
        "import matplotlib.pyplot as plt\n",
        "import tensorflow as tf\n",
        "import numpy as np\n",
        "import tensorflow as tf\n",
        "from keras.models import *\n",
        "from tensorflow.keras import layers\n",
        "from keras.layers import Input, Add, Dense, Activation, ZeroPadding2D, BatchNormalization, Flatten, Conv2D, AveragePooling2D, MaxPooling2D, GlobalMaxPooling2D,MaxPool2D\n",
        "\n",
        "from keras import backend as keras\n",
        "from keras.initializers import glorot_uniform\n",
        "from tensorflow.keras.optimizers import SGD"
      ],
      "metadata": {
        "id": "8OHoRtNnhrQv"
      },
      "execution_count": 5,
      "outputs": []
    },
    {
      "cell_type": "code",
      "source": [
        "print(len(os.listdir(\"/content/Sample/malignant\")))"
      ],
      "metadata": {
        "colab": {
          "base_uri": "https://localhost:8080/"
        },
        "id": "L6xhitqKhwlX",
        "outputId": "ce2a8ee6-d445-48ca-c5fe-00b5493c6052"
      },
      "execution_count": 6,
      "outputs": [
        {
          "output_type": "stream",
          "name": "stdout",
          "text": [
            "210\n"
          ]
        }
      ]
    },
    {
      "cell_type": "code",
      "source": [
        "image_resize = 224"
      ],
      "metadata": {
        "id": "b_cavq0HjK1f"
      },
      "execution_count": 7,
      "outputs": []
    },
    {
      "cell_type": "code",
      "source": [
        "T_ROOT=\"/content/Sample\"\n",
        "n={}\n",
        "for dir in os.listdir(ROOT):\n",
        "  n[dir]=len(os.listdir(os.path.join(ROOT,dir)))\n",
        "print(n)"
      ],
      "metadata": {
        "colab": {
          "base_uri": "https://localhost:8080/"
        },
        "id": "Z7IEdRh8jV-I",
        "outputId": "4d471ab4-ba26-4536-e8fa-c6797f88447a"
      },
      "execution_count": 8,
      "outputs": [
        {
          "output_type": "stream",
          "name": "stdout",
          "text": [
            "{'malignant': 421, 'normal': 266, 'benign': 901}\n"
          ]
        }
      ]
    },
    {
      "cell_type": "code",
      "source": [
        "def mkfol(p,r):\n",
        "  if not os.path.exists(\"./\"+p):\n",
        "    os.mkdir(\"./\"+p)\n",
        "    for dir in os.listdir(T_ROOT):\n",
        "      os.mkdir(os.path.join(\"./\"+p,dir))\n",
        "      l=[]\n",
        "      for i in os.listdir(os.path.join(T_ROOT,dir)):\n",
        "        l.append(i)\n",
        "      for img in np.random.choice(a=l,size=math.floor(r*len(l))-2,replace=False):\n",
        "        o = os.path.join(ROOT,dir,img)\n",
        "        d = os.path.join(\"./\"+p,dir)\n",
        "        shutil.copy(o,d)\n",
        "  else:\n",
        "    print(f\"{p} already exists.\")"
      ],
      "metadata": {
        "id": "nsy1larwlBfe"
      },
      "execution_count": 9,
      "outputs": []
    },
    {
      "cell_type": "code",
      "source": [
        "mkfol(\"train\",0.7)\n",
        "mkfol(\"test\",0.15)\n",
        "mkfol(\"val\",0.15)"
      ],
      "metadata": {
        "id": "HC5fDabTlbue"
      },
      "execution_count": 10,
      "outputs": []
    },
    {
      "cell_type": "code",
      "source": [
        "from keras_preprocessing.image import image_data_generator\n",
        "def ppi(p):\n",
        "  i = ImageDataGenerator(zoom_range=0.2,shear_range=0.2,rescale=1/255,horizontal_flip=True)\n",
        "  I = i.flow_from_directory(directory=p,target_size=(224,224),color_mode='rgb',batch_size=16)\n",
        "  return I\n",
        "def ppi2(p):\n",
        "  i = ImageDataGenerator(rescale=1/255)\n",
        "  I = i.flow_from_directory(directory=p,target_size=(224,224),color_mode='rgb',batch_size=16)\n",
        "  return I"
      ],
      "metadata": {
        "id": "x4PKVMy2lh0_"
      },
      "execution_count": 11,
      "outputs": []
    },
    {
      "cell_type": "code",
      "source": [
        "train_images=ppi(\"./train\")\n",
        "test_images=ppi2(\"./test\")\n",
        "val_images=ppi2(\"./val\")"
      ],
      "metadata": {
        "colab": {
          "base_uri": "https://localhost:8080/"
        },
        "id": "-r-67BdzlnXv",
        "outputId": "ddc372af-0560-4291-ca46-abc373280197"
      },
      "execution_count": 12,
      "outputs": [
        {
          "output_type": "stream",
          "name": "stdout",
          "text": [
            "Found 543 images belonging to 3 classes.\n",
            "Found 110 images belonging to 3 classes.\n",
            "Found 110 images belonging to 3 classes.\n"
          ]
        }
      ]
    },
    {
      "cell_type": "code",
      "source": [
        "train_images.class_indices"
      ],
      "metadata": {
        "colab": {
          "base_uri": "https://localhost:8080/"
        },
        "id": "JeMSKBpnlqGe",
        "outputId": "d9f5e450-d429-450d-b9de-bc1123ea6f83"
      },
      "execution_count": 13,
      "outputs": [
        {
          "output_type": "execute_result",
          "data": {
            "text/plain": [
              "{'benign': 0, 'malignant': 1, 'normal': 2}"
            ]
          },
          "metadata": {},
          "execution_count": 13
        }
      ]
    },
    {
      "cell_type": "code",
      "source": [
        "def ib(X,f,filters):\n",
        "  F1,F2,F3 = filters\n",
        "  X_s = X\n",
        "  X = Conv2D(filters = F1, kernel_size = (1,1), strides = (1,1), padding = 'valid')(X)\n",
        "  X = BatchNormalization(axis = 3)(X)\n",
        "  X = Activation('relu')(X)\n",
        "  X = Conv2D(filters = F2, kernel_size = (f,f), strides = (1,1), padding = 'same')(X)\n",
        "  X = BatchNormalization(axis = 3)(X)\n",
        "  X = Activation('relu')(X)\n",
        "  X = Conv2D(filters = F3, kernel_size = (1,1), strides = (1,1), padding = 'valid')(X)\n",
        "  X = BatchNormalization(axis = 3)(X)\n",
        "  X = Add()([X,X_s])\n",
        "  X = Activation('relu')(X)\n",
        "  return X"
      ],
      "metadata": {
        "id": "AJwA-I8uluOW"
      },
      "execution_count": 14,
      "outputs": []
    },
    {
      "cell_type": "code",
      "source": [
        "def cb(X,f,filters,s=2):\n",
        "  F1,F2,F3 = filters\n",
        "  X_s = X\n",
        "  X = Conv2D(F1, (1,1), strides = (s,s))(X)\n",
        "  X = BatchNormalization(axis = 3)(X)\n",
        "  X = Activation('relu')(X)\n",
        "  X = Conv2D(filters = F2, kernel_size = (f,f), strides = (1,1), padding = 'same')(X)\n",
        "  X = BatchNormalization(axis = 3)(X)\n",
        "  X = Activation('relu')(X)\n",
        "  X = Conv2D(filters = F3, kernel_size = (1,1), strides = (1,1), padding = 'valid')(X)\n",
        "  X = BatchNormalization(axis = 3)(X)\n",
        "  X_s = Conv2D(filters = F3 , kernel_size = (1,1), strides = (s,s), padding = 'valid')(X_s)\n",
        "  X_s = BatchNormalization(axis = 3)(X_s)\n",
        "  X = Add()([X,X_s])\n",
        "  X = Activation('relu')(X)\n",
        "  return X"
      ],
      "metadata": {
        "id": "wTi7Yz1SmPqn"
      },
      "execution_count": 15,
      "outputs": []
    },
    {
      "cell_type": "code",
      "source": [
        "def Resnet(input_shape=(224,224,3),classes=3):\n",
        "    X_input = Input(input_shape)\n",
        "    X = ZeroPadding2D((3,3))(X_input)\n",
        "    X = Conv2D(64,(7,7),strides=(2,2))(X)\n",
        "    X = BatchNormalization(axis = 3)(X)\n",
        "    X = Activation('relu')(X)\n",
        "    X = MaxPooling2D((3,3),strides=(2,2))(X)\n",
        "    X = cb(X, f=3, filters=[64,64,256], s=1)\n",
        "    X = ib(X, 3, [64,64,256])\n",
        "    X = ib(X, 3, [64,64,256])\n",
        "    X = cb(X, f=3, filters = [128,128,512], s=2)\n",
        "    X = ib(X, 3, [128,128,512])\n",
        "    X = ib(X, 3, [128,128,512])\n",
        "    X = ib(X, 3, [128,128,512])\n",
        "    X = cb(X, f=3, filters = [256,256,1024], s=2)\n",
        "    X = ib(X, 3, [256,256,1024])\n",
        "    X = ib(X, 3, [256,256,1024])\n",
        "    X = ib(X, 3, [256,256,1024])\n",
        "    X = ib(X, 3, [256,256,1024])\n",
        "    X = ib(X, 3, [256,256,1024])\n",
        "    X = cb(X, f=3, filters= [512,512,2048], s=2)\n",
        "    X = ib(X, 3, [512,512,2048])\n",
        "    X = ib(X, 3, [512,512,2048])\n",
        "    X = AveragePooling2D((2,2), name=\"avg_pool\")(X)\n",
        "    X = Flatten()(X)\n",
        "    X = Dense(classes,activation='softmax',name='fc'+str(classes),kernel_initializer = glorot_uniform(seed=0))(X)\n",
        "    return Model(inputs= X_input, outputs = X, name = 'Resnet')"
      ],
      "metadata": {
        "id": "dNra6Po6mTi2"
      },
      "execution_count": 16,
      "outputs": []
    },
    {
      "cell_type": "code",
      "source": [
        "model = Resnet()\n",
        "model.summary()"
      ],
      "metadata": {
        "colab": {
          "base_uri": "https://localhost:8080/"
        },
        "id": "xJSrFal4m4FW",
        "outputId": "7b2db666-588d-4950-9fa5-f96963e8bbc1"
      },
      "execution_count": 17,
      "outputs": [
        {
          "output_type": "stream",
          "name": "stdout",
          "text": [
            "Model: \"Resnet\"\n",
            "__________________________________________________________________________________________________\n",
            " Layer (type)                   Output Shape         Param #     Connected to                     \n",
            "==================================================================================================\n",
            " input_1 (InputLayer)           [(None, 224, 224, 3  0           []                               \n",
            "                                )]                                                                \n",
            "                                                                                                  \n",
            " zero_padding2d (ZeroPadding2D)  (None, 230, 230, 3)  0          ['input_1[0][0]']                \n",
            "                                                                                                  \n",
            " conv2d (Conv2D)                (None, 112, 112, 64  9472        ['zero_padding2d[0][0]']         \n",
            "                                )                                                                 \n",
            "                                                                                                  \n",
            " batch_normalization (BatchNorm  (None, 112, 112, 64  256        ['conv2d[0][0]']                 \n",
            " alization)                     )                                                                 \n",
            "                                                                                                  \n",
            " activation (Activation)        (None, 112, 112, 64  0           ['batch_normalization[0][0]']    \n",
            "                                )                                                                 \n",
            "                                                                                                  \n",
            " max_pooling2d (MaxPooling2D)   (None, 55, 55, 64)   0           ['activation[0][0]']             \n",
            "                                                                                                  \n",
            " conv2d_1 (Conv2D)              (None, 55, 55, 64)   4160        ['max_pooling2d[0][0]']          \n",
            "                                                                                                  \n",
            " batch_normalization_1 (BatchNo  (None, 55, 55, 64)  256         ['conv2d_1[0][0]']               \n",
            " rmalization)                                                                                     \n",
            "                                                                                                  \n",
            " activation_1 (Activation)      (None, 55, 55, 64)   0           ['batch_normalization_1[0][0]']  \n",
            "                                                                                                  \n",
            " conv2d_2 (Conv2D)              (None, 55, 55, 64)   36928       ['activation_1[0][0]']           \n",
            "                                                                                                  \n",
            " batch_normalization_2 (BatchNo  (None, 55, 55, 64)  256         ['conv2d_2[0][0]']               \n",
            " rmalization)                                                                                     \n",
            "                                                                                                  \n",
            " activation_2 (Activation)      (None, 55, 55, 64)   0           ['batch_normalization_2[0][0]']  \n",
            "                                                                                                  \n",
            " conv2d_3 (Conv2D)              (None, 55, 55, 256)  16640       ['activation_2[0][0]']           \n",
            "                                                                                                  \n",
            " conv2d_4 (Conv2D)              (None, 55, 55, 256)  16640       ['max_pooling2d[0][0]']          \n",
            "                                                                                                  \n",
            " batch_normalization_3 (BatchNo  (None, 55, 55, 256)  1024       ['conv2d_3[0][0]']               \n",
            " rmalization)                                                                                     \n",
            "                                                                                                  \n",
            " batch_normalization_4 (BatchNo  (None, 55, 55, 256)  1024       ['conv2d_4[0][0]']               \n",
            " rmalization)                                                                                     \n",
            "                                                                                                  \n",
            " add (Add)                      (None, 55, 55, 256)  0           ['batch_normalization_3[0][0]',  \n",
            "                                                                  'batch_normalization_4[0][0]']  \n",
            "                                                                                                  \n",
            " activation_3 (Activation)      (None, 55, 55, 256)  0           ['add[0][0]']                    \n",
            "                                                                                                  \n",
            " conv2d_5 (Conv2D)              (None, 55, 55, 64)   16448       ['activation_3[0][0]']           \n",
            "                                                                                                  \n",
            " batch_normalization_5 (BatchNo  (None, 55, 55, 64)  256         ['conv2d_5[0][0]']               \n",
            " rmalization)                                                                                     \n",
            "                                                                                                  \n",
            " activation_4 (Activation)      (None, 55, 55, 64)   0           ['batch_normalization_5[0][0]']  \n",
            "                                                                                                  \n",
            " conv2d_6 (Conv2D)              (None, 55, 55, 64)   36928       ['activation_4[0][0]']           \n",
            "                                                                                                  \n",
            " batch_normalization_6 (BatchNo  (None, 55, 55, 64)  256         ['conv2d_6[0][0]']               \n",
            " rmalization)                                                                                     \n",
            "                                                                                                  \n",
            " activation_5 (Activation)      (None, 55, 55, 64)   0           ['batch_normalization_6[0][0]']  \n",
            "                                                                                                  \n",
            " conv2d_7 (Conv2D)              (None, 55, 55, 256)  16640       ['activation_5[0][0]']           \n",
            "                                                                                                  \n",
            " batch_normalization_7 (BatchNo  (None, 55, 55, 256)  1024       ['conv2d_7[0][0]']               \n",
            " rmalization)                                                                                     \n",
            "                                                                                                  \n",
            " add_1 (Add)                    (None, 55, 55, 256)  0           ['batch_normalization_7[0][0]',  \n",
            "                                                                  'activation_3[0][0]']           \n",
            "                                                                                                  \n",
            " activation_6 (Activation)      (None, 55, 55, 256)  0           ['add_1[0][0]']                  \n",
            "                                                                                                  \n",
            " conv2d_8 (Conv2D)              (None, 55, 55, 64)   16448       ['activation_6[0][0]']           \n",
            "                                                                                                  \n",
            " batch_normalization_8 (BatchNo  (None, 55, 55, 64)  256         ['conv2d_8[0][0]']               \n",
            " rmalization)                                                                                     \n",
            "                                                                                                  \n",
            " activation_7 (Activation)      (None, 55, 55, 64)   0           ['batch_normalization_8[0][0]']  \n",
            "                                                                                                  \n",
            " conv2d_9 (Conv2D)              (None, 55, 55, 64)   36928       ['activation_7[0][0]']           \n",
            "                                                                                                  \n",
            " batch_normalization_9 (BatchNo  (None, 55, 55, 64)  256         ['conv2d_9[0][0]']               \n",
            " rmalization)                                                                                     \n",
            "                                                                                                  \n",
            " activation_8 (Activation)      (None, 55, 55, 64)   0           ['batch_normalization_9[0][0]']  \n",
            "                                                                                                  \n",
            " conv2d_10 (Conv2D)             (None, 55, 55, 256)  16640       ['activation_8[0][0]']           \n",
            "                                                                                                  \n",
            " batch_normalization_10 (BatchN  (None, 55, 55, 256)  1024       ['conv2d_10[0][0]']              \n",
            " ormalization)                                                                                    \n",
            "                                                                                                  \n",
            " add_2 (Add)                    (None, 55, 55, 256)  0           ['batch_normalization_10[0][0]', \n",
            "                                                                  'activation_6[0][0]']           \n",
            "                                                                                                  \n",
            " activation_9 (Activation)      (None, 55, 55, 256)  0           ['add_2[0][0]']                  \n",
            "                                                                                                  \n",
            " conv2d_11 (Conv2D)             (None, 28, 28, 128)  32896       ['activation_9[0][0]']           \n",
            "                                                                                                  \n",
            " batch_normalization_11 (BatchN  (None, 28, 28, 128)  512        ['conv2d_11[0][0]']              \n",
            " ormalization)                                                                                    \n",
            "                                                                                                  \n",
            " activation_10 (Activation)     (None, 28, 28, 128)  0           ['batch_normalization_11[0][0]'] \n",
            "                                                                                                  \n",
            " conv2d_12 (Conv2D)             (None, 28, 28, 128)  147584      ['activation_10[0][0]']          \n",
            "                                                                                                  \n",
            " batch_normalization_12 (BatchN  (None, 28, 28, 128)  512        ['conv2d_12[0][0]']              \n",
            " ormalization)                                                                                    \n",
            "                                                                                                  \n",
            " activation_11 (Activation)     (None, 28, 28, 128)  0           ['batch_normalization_12[0][0]'] \n",
            "                                                                                                  \n",
            " conv2d_13 (Conv2D)             (None, 28, 28, 512)  66048       ['activation_11[0][0]']          \n",
            "                                                                                                  \n",
            " conv2d_14 (Conv2D)             (None, 28, 28, 512)  131584      ['activation_9[0][0]']           \n",
            "                                                                                                  \n",
            " batch_normalization_13 (BatchN  (None, 28, 28, 512)  2048       ['conv2d_13[0][0]']              \n",
            " ormalization)                                                                                    \n",
            "                                                                                                  \n",
            " batch_normalization_14 (BatchN  (None, 28, 28, 512)  2048       ['conv2d_14[0][0]']              \n",
            " ormalization)                                                                                    \n",
            "                                                                                                  \n",
            " add_3 (Add)                    (None, 28, 28, 512)  0           ['batch_normalization_13[0][0]', \n",
            "                                                                  'batch_normalization_14[0][0]'] \n",
            "                                                                                                  \n",
            " activation_12 (Activation)     (None, 28, 28, 512)  0           ['add_3[0][0]']                  \n",
            "                                                                                                  \n",
            " conv2d_15 (Conv2D)             (None, 28, 28, 128)  65664       ['activation_12[0][0]']          \n",
            "                                                                                                  \n",
            " batch_normalization_15 (BatchN  (None, 28, 28, 128)  512        ['conv2d_15[0][0]']              \n",
            " ormalization)                                                                                    \n",
            "                                                                                                  \n",
            " activation_13 (Activation)     (None, 28, 28, 128)  0           ['batch_normalization_15[0][0]'] \n",
            "                                                                                                  \n",
            " conv2d_16 (Conv2D)             (None, 28, 28, 128)  147584      ['activation_13[0][0]']          \n",
            "                                                                                                  \n",
            " batch_normalization_16 (BatchN  (None, 28, 28, 128)  512        ['conv2d_16[0][0]']              \n",
            " ormalization)                                                                                    \n",
            "                                                                                                  \n",
            " activation_14 (Activation)     (None, 28, 28, 128)  0           ['batch_normalization_16[0][0]'] \n",
            "                                                                                                  \n",
            " conv2d_17 (Conv2D)             (None, 28, 28, 512)  66048       ['activation_14[0][0]']          \n",
            "                                                                                                  \n",
            " batch_normalization_17 (BatchN  (None, 28, 28, 512)  2048       ['conv2d_17[0][0]']              \n",
            " ormalization)                                                                                    \n",
            "                                                                                                  \n",
            " add_4 (Add)                    (None, 28, 28, 512)  0           ['batch_normalization_17[0][0]', \n",
            "                                                                  'activation_12[0][0]']          \n",
            "                                                                                                  \n",
            " activation_15 (Activation)     (None, 28, 28, 512)  0           ['add_4[0][0]']                  \n",
            "                                                                                                  \n",
            " conv2d_18 (Conv2D)             (None, 28, 28, 128)  65664       ['activation_15[0][0]']          \n",
            "                                                                                                  \n",
            " batch_normalization_18 (BatchN  (None, 28, 28, 128)  512        ['conv2d_18[0][0]']              \n",
            " ormalization)                                                                                    \n",
            "                                                                                                  \n",
            " activation_16 (Activation)     (None, 28, 28, 128)  0           ['batch_normalization_18[0][0]'] \n",
            "                                                                                                  \n",
            " conv2d_19 (Conv2D)             (None, 28, 28, 128)  147584      ['activation_16[0][0]']          \n",
            "                                                                                                  \n",
            " batch_normalization_19 (BatchN  (None, 28, 28, 128)  512        ['conv2d_19[0][0]']              \n",
            " ormalization)                                                                                    \n",
            "                                                                                                  \n",
            " activation_17 (Activation)     (None, 28, 28, 128)  0           ['batch_normalization_19[0][0]'] \n",
            "                                                                                                  \n",
            " conv2d_20 (Conv2D)             (None, 28, 28, 512)  66048       ['activation_17[0][0]']          \n",
            "                                                                                                  \n",
            " batch_normalization_20 (BatchN  (None, 28, 28, 512)  2048       ['conv2d_20[0][0]']              \n",
            " ormalization)                                                                                    \n",
            "                                                                                                  \n",
            " add_5 (Add)                    (None, 28, 28, 512)  0           ['batch_normalization_20[0][0]', \n",
            "                                                                  'activation_15[0][0]']          \n",
            "                                                                                                  \n",
            " activation_18 (Activation)     (None, 28, 28, 512)  0           ['add_5[0][0]']                  \n",
            "                                                                                                  \n",
            " conv2d_21 (Conv2D)             (None, 28, 28, 128)  65664       ['activation_18[0][0]']          \n",
            "                                                                                                  \n",
            " batch_normalization_21 (BatchN  (None, 28, 28, 128)  512        ['conv2d_21[0][0]']              \n",
            " ormalization)                                                                                    \n",
            "                                                                                                  \n",
            " activation_19 (Activation)     (None, 28, 28, 128)  0           ['batch_normalization_21[0][0]'] \n",
            "                                                                                                  \n",
            " conv2d_22 (Conv2D)             (None, 28, 28, 128)  147584      ['activation_19[0][0]']          \n",
            "                                                                                                  \n",
            " batch_normalization_22 (BatchN  (None, 28, 28, 128)  512        ['conv2d_22[0][0]']              \n",
            " ormalization)                                                                                    \n",
            "                                                                                                  \n",
            " activation_20 (Activation)     (None, 28, 28, 128)  0           ['batch_normalization_22[0][0]'] \n",
            "                                                                                                  \n",
            " conv2d_23 (Conv2D)             (None, 28, 28, 512)  66048       ['activation_20[0][0]']          \n",
            "                                                                                                  \n",
            " batch_normalization_23 (BatchN  (None, 28, 28, 512)  2048       ['conv2d_23[0][0]']              \n",
            " ormalization)                                                                                    \n",
            "                                                                                                  \n",
            " add_6 (Add)                    (None, 28, 28, 512)  0           ['batch_normalization_23[0][0]', \n",
            "                                                                  'activation_18[0][0]']          \n",
            "                                                                                                  \n",
            " activation_21 (Activation)     (None, 28, 28, 512)  0           ['add_6[0][0]']                  \n",
            "                                                                                                  \n",
            " conv2d_24 (Conv2D)             (None, 14, 14, 256)  131328      ['activation_21[0][0]']          \n",
            "                                                                                                  \n",
            " batch_normalization_24 (BatchN  (None, 14, 14, 256)  1024       ['conv2d_24[0][0]']              \n",
            " ormalization)                                                                                    \n",
            "                                                                                                  \n",
            " activation_22 (Activation)     (None, 14, 14, 256)  0           ['batch_normalization_24[0][0]'] \n",
            "                                                                                                  \n",
            " conv2d_25 (Conv2D)             (None, 14, 14, 256)  590080      ['activation_22[0][0]']          \n",
            "                                                                                                  \n",
            " batch_normalization_25 (BatchN  (None, 14, 14, 256)  1024       ['conv2d_25[0][0]']              \n",
            " ormalization)                                                                                    \n",
            "                                                                                                  \n",
            " activation_23 (Activation)     (None, 14, 14, 256)  0           ['batch_normalization_25[0][0]'] \n",
            "                                                                                                  \n",
            " conv2d_26 (Conv2D)             (None, 14, 14, 1024  263168      ['activation_23[0][0]']          \n",
            "                                )                                                                 \n",
            "                                                                                                  \n",
            " conv2d_27 (Conv2D)             (None, 14, 14, 1024  525312      ['activation_21[0][0]']          \n",
            "                                )                                                                 \n",
            "                                                                                                  \n",
            " batch_normalization_26 (BatchN  (None, 14, 14, 1024  4096       ['conv2d_26[0][0]']              \n",
            " ormalization)                  )                                                                 \n",
            "                                                                                                  \n",
            " batch_normalization_27 (BatchN  (None, 14, 14, 1024  4096       ['conv2d_27[0][0]']              \n",
            " ormalization)                  )                                                                 \n",
            "                                                                                                  \n",
            " add_7 (Add)                    (None, 14, 14, 1024  0           ['batch_normalization_26[0][0]', \n",
            "                                )                                 'batch_normalization_27[0][0]'] \n",
            "                                                                                                  \n",
            " activation_24 (Activation)     (None, 14, 14, 1024  0           ['add_7[0][0]']                  \n",
            "                                )                                                                 \n",
            "                                                                                                  \n",
            " conv2d_28 (Conv2D)             (None, 14, 14, 256)  262400      ['activation_24[0][0]']          \n",
            "                                                                                                  \n",
            " batch_normalization_28 (BatchN  (None, 14, 14, 256)  1024       ['conv2d_28[0][0]']              \n",
            " ormalization)                                                                                    \n",
            "                                                                                                  \n",
            " activation_25 (Activation)     (None, 14, 14, 256)  0           ['batch_normalization_28[0][0]'] \n",
            "                                                                                                  \n",
            " conv2d_29 (Conv2D)             (None, 14, 14, 256)  590080      ['activation_25[0][0]']          \n",
            "                                                                                                  \n",
            " batch_normalization_29 (BatchN  (None, 14, 14, 256)  1024       ['conv2d_29[0][0]']              \n",
            " ormalization)                                                                                    \n",
            "                                                                                                  \n",
            " activation_26 (Activation)     (None, 14, 14, 256)  0           ['batch_normalization_29[0][0]'] \n",
            "                                                                                                  \n",
            " conv2d_30 (Conv2D)             (None, 14, 14, 1024  263168      ['activation_26[0][0]']          \n",
            "                                )                                                                 \n",
            "                                                                                                  \n",
            " batch_normalization_30 (BatchN  (None, 14, 14, 1024  4096       ['conv2d_30[0][0]']              \n",
            " ormalization)                  )                                                                 \n",
            "                                                                                                  \n",
            " add_8 (Add)                    (None, 14, 14, 1024  0           ['batch_normalization_30[0][0]', \n",
            "                                )                                 'activation_24[0][0]']          \n",
            "                                                                                                  \n",
            " activation_27 (Activation)     (None, 14, 14, 1024  0           ['add_8[0][0]']                  \n",
            "                                )                                                                 \n",
            "                                                                                                  \n",
            " conv2d_31 (Conv2D)             (None, 14, 14, 256)  262400      ['activation_27[0][0]']          \n",
            "                                                                                                  \n",
            " batch_normalization_31 (BatchN  (None, 14, 14, 256)  1024       ['conv2d_31[0][0]']              \n",
            " ormalization)                                                                                    \n",
            "                                                                                                  \n",
            " activation_28 (Activation)     (None, 14, 14, 256)  0           ['batch_normalization_31[0][0]'] \n",
            "                                                                                                  \n",
            " conv2d_32 (Conv2D)             (None, 14, 14, 256)  590080      ['activation_28[0][0]']          \n",
            "                                                                                                  \n",
            " batch_normalization_32 (BatchN  (None, 14, 14, 256)  1024       ['conv2d_32[0][0]']              \n",
            " ormalization)                                                                                    \n",
            "                                                                                                  \n",
            " activation_29 (Activation)     (None, 14, 14, 256)  0           ['batch_normalization_32[0][0]'] \n",
            "                                                                                                  \n",
            " conv2d_33 (Conv2D)             (None, 14, 14, 1024  263168      ['activation_29[0][0]']          \n",
            "                                )                                                                 \n",
            "                                                                                                  \n",
            " batch_normalization_33 (BatchN  (None, 14, 14, 1024  4096       ['conv2d_33[0][0]']              \n",
            " ormalization)                  )                                                                 \n",
            "                                                                                                  \n",
            " add_9 (Add)                    (None, 14, 14, 1024  0           ['batch_normalization_33[0][0]', \n",
            "                                )                                 'activation_27[0][0]']          \n",
            "                                                                                                  \n",
            " activation_30 (Activation)     (None, 14, 14, 1024  0           ['add_9[0][0]']                  \n",
            "                                )                                                                 \n",
            "                                                                                                  \n",
            " conv2d_34 (Conv2D)             (None, 14, 14, 256)  262400      ['activation_30[0][0]']          \n",
            "                                                                                                  \n",
            " batch_normalization_34 (BatchN  (None, 14, 14, 256)  1024       ['conv2d_34[0][0]']              \n",
            " ormalization)                                                                                    \n",
            "                                                                                                  \n",
            " activation_31 (Activation)     (None, 14, 14, 256)  0           ['batch_normalization_34[0][0]'] \n",
            "                                                                                                  \n",
            " conv2d_35 (Conv2D)             (None, 14, 14, 256)  590080      ['activation_31[0][0]']          \n",
            "                                                                                                  \n",
            " batch_normalization_35 (BatchN  (None, 14, 14, 256)  1024       ['conv2d_35[0][0]']              \n",
            " ormalization)                                                                                    \n",
            "                                                                                                  \n",
            " activation_32 (Activation)     (None, 14, 14, 256)  0           ['batch_normalization_35[0][0]'] \n",
            "                                                                                                  \n",
            " conv2d_36 (Conv2D)             (None, 14, 14, 1024  263168      ['activation_32[0][0]']          \n",
            "                                )                                                                 \n",
            "                                                                                                  \n",
            " batch_normalization_36 (BatchN  (None, 14, 14, 1024  4096       ['conv2d_36[0][0]']              \n",
            " ormalization)                  )                                                                 \n",
            "                                                                                                  \n",
            " add_10 (Add)                   (None, 14, 14, 1024  0           ['batch_normalization_36[0][0]', \n",
            "                                )                                 'activation_30[0][0]']          \n",
            "                                                                                                  \n",
            " activation_33 (Activation)     (None, 14, 14, 1024  0           ['add_10[0][0]']                 \n",
            "                                )                                                                 \n",
            "                                                                                                  \n",
            " conv2d_37 (Conv2D)             (None, 14, 14, 256)  262400      ['activation_33[0][0]']          \n",
            "                                                                                                  \n",
            " batch_normalization_37 (BatchN  (None, 14, 14, 256)  1024       ['conv2d_37[0][0]']              \n",
            " ormalization)                                                                                    \n",
            "                                                                                                  \n",
            " activation_34 (Activation)     (None, 14, 14, 256)  0           ['batch_normalization_37[0][0]'] \n",
            "                                                                                                  \n",
            " conv2d_38 (Conv2D)             (None, 14, 14, 256)  590080      ['activation_34[0][0]']          \n",
            "                                                                                                  \n",
            " batch_normalization_38 (BatchN  (None, 14, 14, 256)  1024       ['conv2d_38[0][0]']              \n",
            " ormalization)                                                                                    \n",
            "                                                                                                  \n",
            " activation_35 (Activation)     (None, 14, 14, 256)  0           ['batch_normalization_38[0][0]'] \n",
            "                                                                                                  \n",
            " conv2d_39 (Conv2D)             (None, 14, 14, 1024  263168      ['activation_35[0][0]']          \n",
            "                                )                                                                 \n",
            "                                                                                                  \n",
            " batch_normalization_39 (BatchN  (None, 14, 14, 1024  4096       ['conv2d_39[0][0]']              \n",
            " ormalization)                  )                                                                 \n",
            "                                                                                                  \n",
            " add_11 (Add)                   (None, 14, 14, 1024  0           ['batch_normalization_39[0][0]', \n",
            "                                )                                 'activation_33[0][0]']          \n",
            "                                                                                                  \n",
            " activation_36 (Activation)     (None, 14, 14, 1024  0           ['add_11[0][0]']                 \n",
            "                                )                                                                 \n",
            "                                                                                                  \n",
            " conv2d_40 (Conv2D)             (None, 14, 14, 256)  262400      ['activation_36[0][0]']          \n",
            "                                                                                                  \n",
            " batch_normalization_40 (BatchN  (None, 14, 14, 256)  1024       ['conv2d_40[0][0]']              \n",
            " ormalization)                                                                                    \n",
            "                                                                                                  \n",
            " activation_37 (Activation)     (None, 14, 14, 256)  0           ['batch_normalization_40[0][0]'] \n",
            "                                                                                                  \n",
            " conv2d_41 (Conv2D)             (None, 14, 14, 256)  590080      ['activation_37[0][0]']          \n",
            "                                                                                                  \n",
            " batch_normalization_41 (BatchN  (None, 14, 14, 256)  1024       ['conv2d_41[0][0]']              \n",
            " ormalization)                                                                                    \n",
            "                                                                                                  \n",
            " activation_38 (Activation)     (None, 14, 14, 256)  0           ['batch_normalization_41[0][0]'] \n",
            "                                                                                                  \n",
            " conv2d_42 (Conv2D)             (None, 14, 14, 1024  263168      ['activation_38[0][0]']          \n",
            "                                )                                                                 \n",
            "                                                                                                  \n",
            " batch_normalization_42 (BatchN  (None, 14, 14, 1024  4096       ['conv2d_42[0][0]']              \n",
            " ormalization)                  )                                                                 \n",
            "                                                                                                  \n",
            " add_12 (Add)                   (None, 14, 14, 1024  0           ['batch_normalization_42[0][0]', \n",
            "                                )                                 'activation_36[0][0]']          \n",
            "                                                                                                  \n",
            " activation_39 (Activation)     (None, 14, 14, 1024  0           ['add_12[0][0]']                 \n",
            "                                )                                                                 \n",
            "                                                                                                  \n",
            " conv2d_43 (Conv2D)             (None, 7, 7, 512)    524800      ['activation_39[0][0]']          \n",
            "                                                                                                  \n",
            " batch_normalization_43 (BatchN  (None, 7, 7, 512)   2048        ['conv2d_43[0][0]']              \n",
            " ormalization)                                                                                    \n",
            "                                                                                                  \n",
            " activation_40 (Activation)     (None, 7, 7, 512)    0           ['batch_normalization_43[0][0]'] \n",
            "                                                                                                  \n",
            " conv2d_44 (Conv2D)             (None, 7, 7, 512)    2359808     ['activation_40[0][0]']          \n",
            "                                                                                                  \n",
            " batch_normalization_44 (BatchN  (None, 7, 7, 512)   2048        ['conv2d_44[0][0]']              \n",
            " ormalization)                                                                                    \n",
            "                                                                                                  \n",
            " activation_41 (Activation)     (None, 7, 7, 512)    0           ['batch_normalization_44[0][0]'] \n",
            "                                                                                                  \n",
            " conv2d_45 (Conv2D)             (None, 7, 7, 2048)   1050624     ['activation_41[0][0]']          \n",
            "                                                                                                  \n",
            " conv2d_46 (Conv2D)             (None, 7, 7, 2048)   2099200     ['activation_39[0][0]']          \n",
            "                                                                                                  \n",
            " batch_normalization_45 (BatchN  (None, 7, 7, 2048)  8192        ['conv2d_45[0][0]']              \n",
            " ormalization)                                                                                    \n",
            "                                                                                                  \n",
            " batch_normalization_46 (BatchN  (None, 7, 7, 2048)  8192        ['conv2d_46[0][0]']              \n",
            " ormalization)                                                                                    \n",
            "                                                                                                  \n",
            " add_13 (Add)                   (None, 7, 7, 2048)   0           ['batch_normalization_45[0][0]', \n",
            "                                                                  'batch_normalization_46[0][0]'] \n",
            "                                                                                                  \n",
            " activation_42 (Activation)     (None, 7, 7, 2048)   0           ['add_13[0][0]']                 \n",
            "                                                                                                  \n",
            " conv2d_47 (Conv2D)             (None, 7, 7, 512)    1049088     ['activation_42[0][0]']          \n",
            "                                                                                                  \n",
            " batch_normalization_47 (BatchN  (None, 7, 7, 512)   2048        ['conv2d_47[0][0]']              \n",
            " ormalization)                                                                                    \n",
            "                                                                                                  \n",
            " activation_43 (Activation)     (None, 7, 7, 512)    0           ['batch_normalization_47[0][0]'] \n",
            "                                                                                                  \n",
            " conv2d_48 (Conv2D)             (None, 7, 7, 512)    2359808     ['activation_43[0][0]']          \n",
            "                                                                                                  \n",
            " batch_normalization_48 (BatchN  (None, 7, 7, 512)   2048        ['conv2d_48[0][0]']              \n",
            " ormalization)                                                                                    \n",
            "                                                                                                  \n",
            " activation_44 (Activation)     (None, 7, 7, 512)    0           ['batch_normalization_48[0][0]'] \n",
            "                                                                                                  \n",
            " conv2d_49 (Conv2D)             (None, 7, 7, 2048)   1050624     ['activation_44[0][0]']          \n",
            "                                                                                                  \n",
            " batch_normalization_49 (BatchN  (None, 7, 7, 2048)  8192        ['conv2d_49[0][0]']              \n",
            " ormalization)                                                                                    \n",
            "                                                                                                  \n",
            " add_14 (Add)                   (None, 7, 7, 2048)   0           ['batch_normalization_49[0][0]', \n",
            "                                                                  'activation_42[0][0]']          \n",
            "                                                                                                  \n",
            " activation_45 (Activation)     (None, 7, 7, 2048)   0           ['add_14[0][0]']                 \n",
            "                                                                                                  \n",
            " conv2d_50 (Conv2D)             (None, 7, 7, 512)    1049088     ['activation_45[0][0]']          \n",
            "                                                                                                  \n",
            " batch_normalization_50 (BatchN  (None, 7, 7, 512)   2048        ['conv2d_50[0][0]']              \n",
            " ormalization)                                                                                    \n",
            "                                                                                                  \n",
            " activation_46 (Activation)     (None, 7, 7, 512)    0           ['batch_normalization_50[0][0]'] \n",
            "                                                                                                  \n",
            " conv2d_51 (Conv2D)             (None, 7, 7, 512)    2359808     ['activation_46[0][0]']          \n",
            "                                                                                                  \n",
            " batch_normalization_51 (BatchN  (None, 7, 7, 512)   2048        ['conv2d_51[0][0]']              \n",
            " ormalization)                                                                                    \n",
            "                                                                                                  \n",
            " activation_47 (Activation)     (None, 7, 7, 512)    0           ['batch_normalization_51[0][0]'] \n",
            "                                                                                                  \n",
            " conv2d_52 (Conv2D)             (None, 7, 7, 2048)   1050624     ['activation_47[0][0]']          \n",
            "                                                                                                  \n",
            " batch_normalization_52 (BatchN  (None, 7, 7, 2048)  8192        ['conv2d_52[0][0]']              \n",
            " ormalization)                                                                                    \n",
            "                                                                                                  \n",
            " add_15 (Add)                   (None, 7, 7, 2048)   0           ['batch_normalization_52[0][0]', \n",
            "                                                                  'activation_45[0][0]']          \n",
            "                                                                                                  \n",
            " activation_48 (Activation)     (None, 7, 7, 2048)   0           ['add_15[0][0]']                 \n",
            "                                                                                                  \n",
            " avg_pool (AveragePooling2D)    (None, 3, 3, 2048)   0           ['activation_48[0][0]']          \n",
            "                                                                                                  \n",
            " flatten (Flatten)              (None, 18432)        0           ['avg_pool[0][0]']               \n",
            "                                                                                                  \n",
            " fc3 (Dense)                    (None, 3)            55299       ['flatten[0][0]']                \n",
            "                                                                                                  \n",
            "==================================================================================================\n",
            "Total params: 23,643,011\n",
            "Trainable params: 23,589,891\n",
            "Non-trainable params: 53,120\n",
            "__________________________________________________________________________________________________\n"
          ]
        }
      ]
    },
    {
      "cell_type": "code",
      "source": [
        "model.compile(optimizer='adam',loss=tf.keras.losses.categorical_crossentropy,metrics=['accuracy'])"
      ],
      "metadata": {
        "id": "NfIRfGYOnXxG"
      },
      "execution_count": 18,
      "outputs": []
    },
    {
      "cell_type": "code",
      "source": [
        "es = EarlyStopping(monitor=\"val_accuracy\",min_delta=0.01,patience=3,verbose=1,mode='auto')\n",
        "mc = ModelCheckpoint(monitor=\"val_accuracy\",filepath=\"./bestmodel.h5\",save_best_only=True,verbose=1,mode='auto')\n",
        "cd=[es,mc]"
      ],
      "metadata": {
        "id": "b8XwXh0j22oI"
      },
      "execution_count": 20,
      "outputs": []
    },
    {
      "cell_type": "code",
      "source": [
        "#history = model.fit(train_images,batch_size=16,epochs=10, verbose = 1,validation_data=val_images)\n",
        "history = model.fit_generator(generator=train_images,epochs=10, verbose = 1,validation_data=val_images,callbacks=cd)"
      ],
      "metadata": {
        "colab": {
          "base_uri": "https://localhost:8080/"
        },
        "id": "qcVk_pe0nIPu",
        "outputId": "36c0d27b-15f3-4955-922b-a57bd0742851"
      },
      "execution_count": 21,
      "outputs": [
        {
          "output_type": "stream",
          "name": "stderr",
          "text": [
            "/usr/local/lib/python3.7/dist-packages/ipykernel_launcher.py:2: UserWarning: `Model.fit_generator` is deprecated and will be removed in a future version. Please use `Model.fit`, which supports generators.\n",
            "  \n"
          ]
        },
        {
          "output_type": "stream",
          "name": "stdout",
          "text": [
            "Epoch 1/10\n",
            "34/34 [==============================] - ETA: 0s - loss: 0.8652 - accuracy: 0.5967\n",
            "Epoch 1: val_accuracy improved from -inf to 0.55455, saving model to ./bestmodel.h5\n",
            "34/34 [==============================] - 18s 515ms/step - loss: 0.8652 - accuracy: 0.5967 - val_loss: 0.9660 - val_accuracy: 0.5545\n",
            "Epoch 2/10\n",
            "34/34 [==============================] - ETA: 0s - loss: 0.8703 - accuracy: 0.6464\n",
            "Epoch 2: val_accuracy did not improve from 0.55455\n",
            "34/34 [==============================] - 16s 472ms/step - loss: 0.8703 - accuracy: 0.6464 - val_loss: 0.9579 - val_accuracy: 0.5182\n",
            "Epoch 3/10\n",
            "34/34 [==============================] - ETA: 0s - loss: 0.8083 - accuracy: 0.6630\n",
            "Epoch 3: val_accuracy improved from 0.55455 to 0.73636, saving model to ./bestmodel.h5\n",
            "34/34 [==============================] - 18s 516ms/step - loss: 0.8083 - accuracy: 0.6630 - val_loss: 0.7202 - val_accuracy: 0.7364\n",
            "Epoch 4/10\n",
            "34/34 [==============================] - ETA: 0s - loss: 0.7577 - accuracy: 0.6483\n",
            "Epoch 4: val_accuracy did not improve from 0.73636\n",
            "34/34 [==============================] - 17s 485ms/step - loss: 0.7577 - accuracy: 0.6483 - val_loss: 0.6798 - val_accuracy: 0.6818\n",
            "Epoch 5/10\n",
            "34/34 [==============================] - ETA: 0s - loss: 0.7024 - accuracy: 0.6759\n",
            "Epoch 5: val_accuracy did not improve from 0.73636\n",
            "34/34 [==============================] - 16s 471ms/step - loss: 0.7024 - accuracy: 0.6759 - val_loss: 0.7670 - val_accuracy: 0.6364\n",
            "Epoch 6/10\n",
            "34/34 [==============================] - ETA: 0s - loss: 0.7191 - accuracy: 0.6703\n",
            "Epoch 6: val_accuracy did not improve from 0.73636\n",
            "34/34 [==============================] - 17s 485ms/step - loss: 0.7191 - accuracy: 0.6703 - val_loss: 0.6807 - val_accuracy: 0.7091\n",
            "Epoch 6: early stopping\n"
          ]
        }
      ]
    },
    {
      "cell_type": "code",
      "source": [
        "from keras.models import load_model\n",
        "model=load_model(\"/content/bestmodel.h5\")"
      ],
      "metadata": {
        "id": "8kdESMMU3jty"
      },
      "execution_count": 22,
      "outputs": []
    },
    {
      "cell_type": "code",
      "source": [
        "from keras.preprocessing.image import load_img, img_to_array\n",
        "from keras.models import sequential\n",
        "import matplotlib.pyplot as plt"
      ],
      "metadata": {
        "id": "7DmTOzVU34LX"
      },
      "execution_count": 23,
      "outputs": []
    },
    {
      "cell_type": "code",
      "source": [
        "path=\"/content/Sample/benign/benign (108).png\"\n",
        "img=load_img(path,color_mode = \"rgb\",target_size=(224,224))\n",
        "input_array=img_to_array(img)/255\n",
        "plt.imshow(input_array,shape=(512,512,1))\n",
        "plt.show()\n",
        "input_array=np.expand_dims(input_array,axis=0)\n",
        "pred=model.predict(input_array)\n",
        "npred=np.argmax(pred,axis=1)[0]\n",
        "x=train_images.class_indices\n",
        "for a in x.keys():\n",
        "  if(x[a]==npred):\n",
        "    print(a)\n",
        "pred"
      ],
      "metadata": {
        "colab": {
          "base_uri": "https://localhost:8080/",
          "height": 358
        },
        "id": "JhGCYRaH342o",
        "outputId": "76d3f35a-21a1-437c-ccce-ec522939b2a3"
      },
      "execution_count": 34,
      "outputs": [
        {
          "output_type": "stream",
          "name": "stderr",
          "text": [
            "/usr/local/lib/python3.7/dist-packages/ipykernel_launcher.py:4: MatplotlibDeprecationWarning: The 'shape' parameter of imshow() is deprecated since Matplotlib 3.1 and will be removed in 3.3.  If any parameter follows 'shape', they should be pass as keyword, not positionally.\n",
            "  after removing the cwd from sys.path.\n"
          ]
        },
        {
          "output_type": "display_data",
          "data": {
            "text/plain": [
              "<Figure size 432x288 with 1 Axes>"
            ],
            "image/png": "[encoded data removed]"
          },
          "metadata": {
            "needs_background": "light"
          }
        },
        {
          "output_type": "stream",
          "name": "stdout",
          "text": [
            "benign\n"
          ]
        },
        {
          "output_type": "execute_result",
          "data": {
            "text/plain": [
              "array([[0.51784563, 0.09832389, 0.38383052]], dtype=float32)"
            ]
          },
          "metadata": {},
          "execution_count": 34
        }
      ]
    }
  ]
}